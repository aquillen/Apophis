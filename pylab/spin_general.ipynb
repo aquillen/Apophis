{
 "cells": [
  {
   "cell_type": "code",
   "execution_count": 1,
   "id": "26798658",
   "metadata": {},
   "outputs": [],
   "source": [
    "import numpy as np\n",
    "import matplotlib.pyplot as plt\n",
    "\n",
    "%matplotlib inline\n",
    "\n",
    "#import scipy.special as special\n",
    "#scipy.special.ellipk \n",
    "\n",
    "import mpmath as mpmath\n",
    "# https://mpmath.org/doc/current/functions/elliptic.html\n",
    "# https://mpmath.org/doc/current/functions/elliptic.html#jacobi-theta-functions\n",
    "# mpmath is better than scipy.special\n",
    "\n",
    "hour = 60*60.0\n",
    "day = hour*24\n",
    "degreeperday = (180/np.pi)*day"
   ]
  },
  {
   "cell_type": "markdown",
   "id": "c04e3374",
   "metadata": {},
   "source": [
    "### goal is to compute spin vector given information from lightcurve/radar fitting"
   ]
  },
  {
   "cell_type": "markdown",
   "id": "6e89e98b",
   "metadata": {},
   "source": [
    "Following Scheere's book \n",
    "\\begin{align}\n",
    "k^2  {\\rm\\ SAM} &= \\frac{ (I_y - I_x ) (I_z - I_D )  }\n",
    "                     { (I_z- I_y ) ( I_D - I_x )   }                \n",
    "\\end{align}\n",
    "is inverse if LAM. \n",
    "\n",
    "$$A_t = \\sqrt{\\frac{I_D(I_z - I_y) (I_D- I_x)}{I_x I_y I_y}} \\frac{1}{\\sigma}$$\n",
    "\n",
    "\\begin{align}\n",
    "\\tau = A_t \\omega_{\\rm eff} t\n",
    "\\end{align}\n",
    "\\begin{align}\n",
    "P_\\psi &= \\frac{4 K(k)}{t_{fac} \\omega_{\\rm eff}}\\\\\n",
    "\\omega_{\\rm eff} &=  \\frac{4 K(k)}{A_t P_\\psi}\n",
    "\\end{align}\n",
    "\n",
    "If $I_y < I_D < I_s $ then SAM, $\\sigma=1$, $\\gamma=k$.\n",
    "Otherwise LAM and $\\sigma=k$, $\\gamma=1$. "
   ]
  },
  {
   "cell_type": "code",
   "execution_count": 2,
   "id": "34e3f1e4",
   "metadata": {},
   "outputs": [],
   "source": [
    "# given two ratios of moment of inertia, rotation period, and energy ratio\n",
    "# computes:\n",
    "#  mode: which mode of rotation SAM or LAM\n",
    "#  A_t time scaling factor \n",
    "#  k (used in elliptic functions)\n",
    "#  bigK = K(k) an elliptic function\n",
    "#  omega_eff effective rotation H = I_D omega_eff, T = I_D omega_eff^2/2\n",
    "#  n also used in elliptic functions \n",
    "#  sigma, gamma -- dependent on whether SAM or LAM\n",
    "#  taufac a factor giving tau = A_t omega_eff t\n",
    "#\n",
    "# ratios\n",
    "# I_y_ratio = I_y/I_z, I_x_ratio = I_x/I_z, I_D_ratio = I_D/I_z\n",
    "# T_ratio = E/E_0 or T/T_0 (depending upon notation) = I_z/I_D = 1/I_D_ratio\n",
    "# often y = intermediate, z=short, x =long axes \n",
    "def dostuff(I_y_ratio,I_x_ratio,T_ratio,P_psi):\n",
    "    I_D_ratio = 1/T_ratio\n",
    "    k2 = (I_y_ratio-I_x_ratio)*(1.0-I_D_ratio)/((1.-I_y_ratio)*(I_D_ratio-I_x_ratio))\n",
    "    if ((I_y_ratio < I_D_ratio) and (I_D_ratio <1.0)):\n",
    "        mode = 'SAM'\n",
    "        k = np.sqrt(k2)\n",
    "        sigma = 1.0\n",
    "        ggamma = k\n",
    "        \n",
    "    else:\n",
    "        mode = 'LAM'\n",
    "        k = np.sqrt(1./k2)\n",
    "        sigma = k\n",
    "        ggamma = 1.0\n",
    "    m = k**2  # note convention is that m is passed to elliptic functions not k \n",
    "    # print(special.ellipk(m), mpmath.ellipk(m)) they agreed!\n",
    "    bigK= float(mpmath.ellipk(m))  # = K(k) complete elliptic integral first kind \n",
    "    A_t = np.sqrt(I_D_ratio*(1.0-I_y_ratio)*(I_D_ratio-I_x_ratio)/(I_x_ratio*I_y_ratio))\n",
    "    A_t *= 1.0/sigma  #  a factor for scaling time \n",
    "    #print('A_t={:.3f}'.format(A_t))\n",
    "    omega_eff = 4.0*bigK/(A_t*P_psi)\n",
    "    taufac = A_t*omega_eff  # multiply this by time to get tau \n",
    "    n = sigma**2 * (1.0/I_x_ratio) * (I_y_ratio - I_x_ratio)/(1.0 - I_y_ratio)\n",
    "    # n is useful for computing dphdt below\n",
    "    return mode,sigma,ggamma,k,bigK,omega_eff,taufac,n,A_t\n",
    "      "
   ]
  },
  {
   "cell_type": "code",
   "execution_count": 3,
   "id": "297abae6",
   "metadata": {},
   "outputs": [
    {
     "name": "stdout",
     "output_type": "stream",
     "text": [
      "I_D/I_s = 0.975\n",
      "SAM\n",
      "k=0.643\n",
      "omega_eff= 5.505e-05 (rad/s-1)\n",
      "BigK=1.787\n",
      "A_t=0.136\n"
     ]
    }
   ],
   "source": [
    "model = 'B18'  # for Apophis\n",
    "#model = 'L22'  # \n",
    "\n",
    "\n",
    "if (model=='L22'):  # from Lee+22 Table 2\n",
    "    T_ratio = 1.018 # is equal to T/T_0 \n",
    "    I_D_ratio = 1.0/T_ratio  # is I_D/I_s\n",
    "    print('I_D/I_s = {:.3f}'.format(I_D_ratio))\n",
    "    I_i_ratio = 0.962 # I_2/I_3  \n",
    "    I_l_ratio = 0.64  # I_1/I_3  \n",
    "    P_psi = 264.18*hour # rotation period\n",
    "    P_phi = 27.3855*hour\n",
    "\n",
    "if (model=='B18'):  # from Brozovic+18 supplements\n",
    "    T_ratio = 1.0254 # is equal to T/T_0 \n",
    "    I_D_ratio = 1.0/T_ratio  # is I_D/I_s\n",
    "    print('I_D/I_s = {:.3f}'.format(I_D_ratio))\n",
    "    I_i_ratio = 0.947 # I_2/I_3  \n",
    "    I_l_ratio = 0.729  # I_1/I_3  \n",
    "    P_psi = 265.7*hour # rotation period\n",
    "    P_phi = 27.45*hour\n",
    "# Since I_i < I_D <I_s we are in SAM\n",
    "\n",
    "I_x_ratio = I_l_ratio  #in general true!\n",
    "I_y_ratio = I_i_ratio\n",
    "\n",
    "# compute a few quantities and print them out\n",
    "mode,sigma,ggamma,k,bigK,omega_eff,taufac,n,A_t = dostuff(I_y_ratio,I_x_ratio,T_ratio,P_psi)\n",
    "print(mode)\n",
    "print('k={:.3f}'.format(k))\n",
    "print('omega_eff= {:.3e} (rad/s-1)'.format(omega_eff))\n",
    "print('BigK={:.3f}'.format(bigK))\n",
    "print('A_t={:.3f}'.format(A_t))\n",
    "\n",
    "# mostly using formulas from Scheere's book"
   ]
  },
  {
   "cell_type": "markdown",
   "id": "0b635e8a",
   "metadata": {},
   "source": [
    "For SAM $\\sigma=1,\\gamma=k$. LAM is reversed, $\\sigma=k,\\gamma=1$. \n",
    "\n",
    "\\begin{align}\n",
    "\\Omega_x &= \\omega_{eff} \\sqrt{\\frac{I_D}{I_x} \\frac{ (I_z-I_D)}{(I_z-I_x)}}\\sqrt{1 -\\sigma^2 {\\rm sn}(\\tau,k)^2} \\\\\n",
    "\\Omega_i &= \\omega_{eff} \\sqrt{\\frac{I_D}{I_y} \\frac{ (I_z-I_D)}{(I_z-I_y)}}\\sigma  {\\rm sn}(\\tau,k)\\\\\n",
    "\\Omega_s &= \\omega_{eff} \\sqrt{\\frac{I_D}{I_z} \\frac{(I_D-I_x)}{(I_z-I_x)}} \\sqrt{1 -\\gamma^2 {\\rm sn}(\\tau,k)^2}\n",
    "\\end{align}\n",
    "\n",
    "\\begin{align}\n",
    "\\psi &= {\\rm atan2} (I_x \\Omega_x, I_y \\Omega_y) \\\\\n",
    "\\theta &= {\\rm acos} \\frac{ I_z \\Omega_z }{I_D \\omega_{\\rm eff}}\n",
    "\\end{align}\n",
    "\n",
    "\\begin{align}\n",
    "\\bar{ \\frac{d\\phi}{dt}} = \\omega_{eff} \\frac{I_D}{I_z} \n",
    "\\left[ 1 + \\frac{I_z- I_x}{I_x} \\frac{\\Pi(K(k),n) }{K(k)}\\right]\n",
    "\\end{align}\n",
    "\n",
    "However here $\\Pi$ (third kind elliptical integral) is defined with $n$ having sign opposite to what is in mpmath.ellipi"
   ]
  },
  {
   "cell_type": "code",
   "execution_count": 4,
   "id": "4219c4f9",
   "metadata": {},
   "outputs": [
    {
     "name": "stdout",
     "output_type": "stream",
     "text": [
      "Omega=(1.8399e-05 ,1.1219e-05, 5.0882e-05)(s-1)\n",
      "psi theta 0.9009 0.3244 (radians)\n",
      "psi 51.62 deg theta 18.59 deg\n"
     ]
    }
   ],
   "source": [
    "# computes spin vector and two Euler angles, given tau\n",
    "def ome_ang(I_y_ratio,I_x_ratio,T_ratio,P_psi,tau):\n",
    "    mode,sigma,ggamma,k,bigK,omega_eff,taufac,n,A_t = \\\n",
    "        dostuff(I_y_ratio,I_x_ratio,T_ratio,P_psi)\n",
    "    I_D_ratio = 1.0/T_ratio  # is I_D/I_s\n",
    "    m = k**2\n",
    "    sn =  float(mpmath.ellipfun('sn', tau, m)) \n",
    "    Omega_x = omega_eff*np.sqrt((I_D_ratio/I_x_ratio)*(1.0 - I_D_ratio)/(1.0-I_x_ratio))*\\\n",
    "        np.sqrt(1.0 - sigma**2 *sn**2)\n",
    "    Omega_y = omega_eff*np.sqrt((I_D_ratio/I_y_ratio)*(1.0 - I_D_ratio)/(1.0-I_y_ratio))*\\\n",
    "        sigma*sn\n",
    "    Omega_z = omega_eff*np.sqrt((I_D_ratio/1)*(I_D_ratio-I_x_ratio)/(1.0-I_x_ratio))*\\\n",
    "        np.sqrt(1.0 - ggamma**2 *sn**2)\n",
    "    psi = np.arctan2(I_x_ratio*Omega_x,I_y_ratio*Omega_y)\n",
    "    theta = np.arccos(Omega_z/(I_D_ratio*omega_eff))\n",
    "    return Omega_x,Omega_y,Omega_z,psi,theta\n",
    "\n",
    "Omega_x,Omega_y,Omega_z,psi,theta = ome_ang(I_y_ratio,I_x_ratio,T_ratio,P_psi,0.3)\n",
    "print('Omega=({:.4e} ,{:.4e}, {:.4e})(s-1)'.format(Omega_x,Omega_y,Omega_z))\n",
    "print('psi theta {:.4f} {:.4f} (radians)'.format(psi,theta))\n",
    "print('psi {:.2f} deg theta {:.2f} deg'.format(psi*180/np.pi,theta*180/np.pi))"
   ]
  },
  {
   "cell_type": "code",
   "execution_count": 5,
   "id": "471a5662",
   "metadata": {},
   "outputs": [
    {
     "name": "stdout",
     "output_type": "stream",
     "text": [
      "H 5.3682e-05 5.3682e-05\n",
      "T 2.9549e-09 2.9549e-09\n"
     ]
    }
   ],
   "source": [
    "Hcheck = np.sqrt( (I_x_ratio*Omega_x)**2 + (I_y_ratio*Omega_y)**2 + Omega_z**2)\n",
    "Hcheck_comp = I_D_ratio*omega_eff\n",
    "print('H {:.4e} {:.4e}'.format(Hcheck,Hcheck_comp))\n",
    "\n",
    "Tcheck = I_x_ratio*Omega_x**2 + I_y_ratio*Omega_y**2  + Omega_z**2\n",
    "Tcheck_comp = I_D_ratio*omega_eff**2\n",
    "print('T {:.4e} {:.4e}'.format(Tcheck,Tcheck_comp))\n",
    "# formulas are correct as these agree!"
   ]
  },
  {
   "cell_type": "code",
   "execution_count": 6,
   "id": "c615b941",
   "metadata": {},
   "outputs": [
    {
     "name": "stdout",
     "output_type": "stream",
     "text": [
      "bardotphi 6.1468e-05 (rad/s-1)\n",
      "P_phi 28.39 (hour)\n"
     ]
    }
   ],
   "source": [
    "# compute the average dphidt using elliptical integral (third kind)\n",
    "def compute_phi_bar(I_i_ratio,I_l_ratio,T_ratio,P_psi):\n",
    "    mode,sigma,ggamma,k,bigK,omega_eff,taufac,n,A_t = \\\n",
    "         dostuff(I_y_ratio,I_x_ratio,T_ratio,P_psi)\n",
    "    m = k**2\n",
    "    f1 = (1.0- I_l_ratio)/I_l_ratio\n",
    "    #phi = bigK\n",
    "    Pi3 = float(mpmath.ellippi(-n,bigK,m))  # Scheeres def has a -n compared to mpmath\n",
    "    # third kind of ellip integral \n",
    "    dphidt = omega_eff*I_D_ratio*(1.0 + f1*Pi3/bigK);\n",
    "    return dphidt\n",
    "\n",
    "bardotphi = compute_phi_bar(I_i_ratio,I_l_ratio,T_ratio,P_psi)\n",
    "print('bardotphi {:.4e} (rad/s-1)'.format(bardotphi))\n",
    "P_phi = 2*np.pi/bardotphi\n",
    "print('P_phi {:.2f} (hour)'.format(P_phi/hour))\n",
    "# what I get is close to what I integrated below but not good agreement \n",
    "# with precession period  by P14 or L22 or B18 which is like 27.5"
   ]
  },
  {
   "cell_type": "code",
   "execution_count": null,
   "id": "8c622834",
   "metadata": {},
   "outputs": [],
   "source": []
  },
  {
   "cell_type": "code",
   "execution_count": null,
   "id": "efeaf184",
   "metadata": {},
   "outputs": [],
   "source": []
  },
  {
   "cell_type": "code",
   "execution_count": null,
   "id": "9b4a84f9",
   "metadata": {},
   "outputs": [],
   "source": []
  },
  {
   "cell_type": "code",
   "execution_count": 10,
   "id": "0595a6a5",
   "metadata": {},
   "outputs": [
    {
     "data": {
      "text/plain": [
       "6.710211993195107e-05"
      ]
     },
     "execution_count": 10,
     "metadata": {},
     "output_type": "execute_result"
    }
   ],
   "source": [
    "# computing dphidt in different ways to check above\n",
    "# this function computes an intermediate step that can be integrated to get average\n",
    "def compute_dphidi(I_y_ratio,I_x_ratio,T_ratio,P_psi,tau):\n",
    "    mode,sigma,ggamma,k,bigK,omega_eff,taufac,n,A_t =\\\n",
    "        dostuff(I_y_ratio,I_x_ratio,T_ratio,P_psi)\n",
    "    I_D_ratio = 1.0/T_ratio  # is I_D/I_s\n",
    "    m = k**2\n",
    "    sn =  float(mpmath.ellipfun('sn', tau, m)) \n",
    "    Omega_x = omega_eff*np.sqrt((I_D_ratio/I_x_ratio)*(1.0 - I_D_ratio)/(1.0-I_x_ratio))*\\\n",
    "        np.sqrt(1.0 - sigma**2 *sn**2)\n",
    "    Omega_y = omega_eff*np.sqrt((I_D_ratio/I_y_ratio)*(1.0 - I_D_ratio)/(1.0-I_y_ratio))*\\\n",
    "        sn\n",
    "    Omega_z = omega_eff*np.sqrt((I_D_ratio/1)*(I_D_ratio-I_x_ratio)/(1.0-I_x_ratio))*\\\n",
    "        np.sqrt(1.0 - ggamma**2 *sn**2)\n",
    "    Omx2 = Omega_x**2\n",
    "    Omy2 = Omega_y**2\n",
    "    Omz2 = Omega_z**2\n",
    "    case1 = I_D_ratio*omega_eff *\\\n",
    "      (I_x_ratio*Omx2 + I_y_ratio*Omy2)/(I_x_ratio**2 *Omx2 + I_y_ratio**2 *Omy2)\n",
    "    # eqn 3.106 \n",
    "    om2 = omega_eff**2\n",
    "    case2 = I_D_ratio*omega_eff *\\\n",
    "      (1.0 + I_D_ratio*(1 - I_D_ratio)*om2/(I_D_ratio**2*om2 - Omz2))\n",
    "    case3 = I_D_ratio*omega_eff *\\\n",
    "      (1.0  + (1-I_x_ratio)/I_x_ratio * 1.0/(1 + n*sn**2)) # eqn 3.108\n",
    "    # print(case1,case2,case3) # all agree\n",
    "    return case3\n",
    "\n",
    "compute_dphidi(I_y_ratio,I_x_ratio,T_ratio,P_psi,0.3)"
   ]
  },
  {
   "cell_type": "code",
   "execution_count": 14,
   "id": "e61ca0a1",
   "metadata": {},
   "outputs": [
    {
     "name": "stdout",
     "output_type": "stream",
     "text": [
      "bardotphi 6.111236e-05\n",
      "P_phi 28.56 (hour)\n"
     ]
    }
   ],
   "source": [
    "tau_lin = np.linspace(0,4*bigK,600) # period of tau is 4K(k)\n",
    "t_lin = tau_lin/taufac\n",
    "dt = t_lin[1]- t_lin[0]\n",
    "ss = 0.0  # initial phi value at tau=0\n",
    "ss_arr = tau_lin*0\n",
    "for i in range(len(t_lin)):\n",
    "    dphidt = compute_dphidi(I_y_ratio,I_x_ratio,T_ratio,P_psi,tau_lin[i])\n",
    "    ss += dt*dphidt\n",
    "    ss_arr[i] = ss\n",
    "bardotphi = ss/P_psi\n",
    "#print(ss)  # how much phi changed in the time of P_psi, bigger than 2 pi, but so what\n",
    "print('bardotphi {:5e}'.format(bardotphi))\n",
    "P_phi = 2*np.pi/bardotphi\n",
    "print('P_phi {:.2f} (hour)'.format(P_phi/hour))\n",
    "# close to what I calculated before with the elliptical integral "
   ]
  },
  {
   "cell_type": "code",
   "execution_count": 12,
   "id": "dcb0fe06",
   "metadata": {},
   "outputs": [
    {
     "data": {
      "text/plain": [
       "[<matplotlib.lines.Line2D at 0x1282dde50>]"
      ]
     },
     "execution_count": 12,
     "metadata": {},
     "output_type": "execute_result"
    },
    {
     "data": {
      "image/png": "[encoded data removed]",
      "text/plain": [
       "<Figure size 640x480 with 1 Axes>"
      ]
     },
     "metadata": {},
     "output_type": "display_data"
    }
   ],
   "source": [
    "plt.plot(ss_arr)"
   ]
  },
  {
   "cell_type": "code",
   "execution_count": 103,
   "id": "3a48c69f",
   "metadata": {},
   "outputs": [
    {
     "name": "stdout",
     "output_type": "stream",
     "text": [
      "P_phi_2= 25.69 hour\n",
      "P_phi_2= 31.85 hour\n"
     ]
    }
   ],
   "source": [
    "# what if there is a convention problem?\n",
    "P_phi_2 = 1/(1/P_phi + 1/P_psi)\n",
    "print('P_phi_2= {:.2f} hour'.format(P_phi_2/hour))\n",
    "P_phi_2 = 1/(1/P_phi - 1/P_psi)\n",
    "print('P_phi_2= {:.2f} hour'.format(P_phi_2/hour))\n",
    "# does not solve the problem"
   ]
  },
  {
   "cell_type": "code",
   "execution_count": 57,
   "id": "d5d2d1e0",
   "metadata": {},
   "outputs": [],
   "source": [
    "phi=0\n",
    "CT0 = makeC_T(psi,theta,phi)"
   ]
  },
  {
   "cell_type": "code",
   "execution_count": 58,
   "id": "d484375f",
   "metadata": {},
   "outputs": [
    {
     "data": {
      "text/plain": [
       "matrix([[ 6.12323400e-17,  9.83869910e-01,  1.78885438e-01],\n",
       "        [-1.00000000e+00,  6.02446568e-17,  1.09535740e-17],\n",
       "        [ 0.00000000e+00, -1.78885438e-01,  9.83869910e-01]])"
      ]
     },
     "execution_count": 58,
     "metadata": {},
     "output_type": "execute_result"
    }
   ],
   "source": [
    "CT0"
   ]
  },
  {
   "cell_type": "markdown",
   "id": "885f3db0",
   "metadata": {},
   "source": [
    "#### Order of mag estimates for paper"
   ]
  },
  {
   "cell_type": "code",
   "execution_count": 124,
   "id": "7cdc74e1",
   "metadata": {},
   "outputs": [
    {
     "name": "stdout",
     "output_type": "stream",
     "text": [
      "sig_tidal=0.497 (Pa)\n"
     ]
    }
   ],
   "source": [
    "# compute tidal stress in center to order of magnitude \n",
    "G = 6.67408E-11 #   m^3 kg^-1 s^-2\n",
    "M_earth =  5.9722E24 # kg \n",
    "R_mean = 185. # m B18?\n",
    "rho = 2e3  #  kg/m^3\n",
    "r_peri =  38017.0e3 #  km to m\n",
    "sig_tidal = G*rho*M_earth*R_mean**2/r_peri**3\n",
    "print('sig_tidal={:.3f} (Pa)'.format(sig_tidal))\n",
    "# basically agreeing with rough guess by Hirabayashi+21 who got 0.5 Pa"
   ]
  },
  {
   "cell_type": "code",
   "execution_count": 125,
   "id": "9f01171f",
   "metadata": {},
   "outputs": [
    {
     "name": "stdout",
     "output_type": "stream",
     "text": [
      "P_c 10.88 Pa\n"
     ]
    }
   ],
   "source": [
    "#We compute the central pressure \n",
    "M_Apophis = 4.0e10 # kg\n",
    "P_c = G*M_Apophis**2 * R_mean**-4 * 3.0/(8*np.pi)\n",
    "print('central pressure P_c {:.2f} Pa'.format(P_c))\n",
    "# it's about 25 Pa\n",
    "# this implies that tidal stress could be of order about a percent of central pressure. "
   ]
  },
  {
   "cell_type": "markdown",
   "id": "a923b26c",
   "metadata": {},
   "source": [
    "The central pressure at a uniform density sphere\n",
    "https://phys.libretexts.org/Bookshelves/Astronomy__Cosmology/Celestial_Mechanics_(Tatum)/05%3A_Gravitational_Field_and_Potential/5.13%3A_Pressure_at_the_Centre_of_a_Uniform_Sphere\n",
    "is \n",
    "$$P = \\frac{2}{3} \\pi G \\rho^2  a^2 = \\frac{2\\pi}{3} \\left(\\frac{3}{4\\pi}\\right)^2 \\frac{GM^2}{a^4}  = \\frac{3}{8\\pi} \\frac{GM^2}{a^4}$$"
   ]
  },
  {
   "cell_type": "code",
   "execution_count": 126,
   "id": "8e52a612",
   "metadata": {},
   "outputs": [
    {
     "name": "stdout",
     "output_type": "stream",
     "text": [
      "a_wobble 5.605e-07 m/s^2\n",
      "acceleration stress sigma_acc=0.207 Pa\n"
     ]
    }
   ],
   "source": [
    "# compute acceleration and internal stress due to wobble \n",
    "a_wobble = omega_eff**2*R_mean\n",
    "print('a_wobble {:.3e} m/s^2'.format(a_wobble))\n",
    "sigma_acc = a_wobble*R_mean*rho\n",
    "print('acceleration stress sigma_acc={:.3f} Pa'.format(sigma_acc))"
   ]
  },
  {
   "cell_type": "markdown",
   "id": "8fd89167",
   "metadata": {},
   "source": [
    "### compute volume of Brozovic+18 shape model"
   ]
  },
  {
   "cell_type": "code",
   "execution_count": 53,
   "id": "75781c3b",
   "metadata": {},
   "outputs": [],
   "source": [
    "# read in shape model Brozovic+18\n",
    "shapefile = '../shape/apophis_v233s7_vert2_new.obj'\n",
    "\n",
    "# read in an obj file \n",
    "vertex_list = np.zeros(3,dtype=float)\n",
    "face_list = np.zeros(3,dtype=int)\n",
    "\n",
    "with open(shapefile) as fp:\n",
    "    for line in fp:\n",
    "        ss = line.split(' ')\n",
    "        #print(ss)\n",
    "        if (ss[0] =='v'):\n",
    "            x = float(ss[1])\n",
    "            y = ss[2]\n",
    "            z = ss[3]\n",
    "            vertex_list = np.vstack([vertex_list,np.array([x,y,z],dtype=float)]) \n",
    "        if (ss[0] =='f'):\n",
    "            i = ss[1]\n",
    "            j = ss[2]\n",
    "            k = ss[3]\n",
    "            face_list = np.vstack([face_list,np.array([i,j,k],dtype=int)])\n",
    "        \n",
    "vertex_list = vertex_list[1:]\n",
    "face_list = face_list[1:]\n",
    "# note faces are indexed from 1 not 0!"
   ]
  },
  {
   "cell_type": "code",
   "execution_count": 67,
   "id": "821e3d0e",
   "metadata": {},
   "outputs": [
    {
     "data": {
      "text/plain": [
       "2000"
      ]
     },
     "execution_count": 67,
     "metadata": {},
     "output_type": "execute_result"
    }
   ],
   "source": [
    "len(vertex_list)"
   ]
  },
  {
   "cell_type": "code",
   "execution_count": 122,
   "id": "de41d31c",
   "metadata": {},
   "outputs": [
    {
     "name": "stdout",
     "output_type": "stream",
     "text": [
      "volume = 1.983e-02 km^3\n"
     ]
    }
   ],
   "source": [
    "# compute the volume of the shape \n",
    "def compute_volume(vertices,faces):\n",
    "    nf = faces.shape[0]\n",
    "    volume = 0.0;\n",
    "    for i in range(nf): # note faces are indexed from 1 not 0!\n",
    "        i1 = faces[i,0]-1  # \n",
    "        i2 = faces[i,1]-1\n",
    "        i3 = faces[i,2]-1 \n",
    "        #print(i1,i2,i3)\n",
    "        vec1 = np.squeeze(vertices[i1,:])\n",
    "        vec2 = np.squeeze(vertices[i2,:])\n",
    "        vec3 = np.squeeze(vertices[i3,:])\n",
    "        #print(vec1,vec2,vec3)\n",
    "        zvec = np.cross(vec1,vec2)\n",
    "        #print(zvec)\n",
    "        # a x b dot c is volume of a parallelpiped and we only want a tetrahedron\n",
    "        vol = np.abs(np.dot(zvec,vec3))/6  # only a tetrahedron! not a parallelpiped!\n",
    "        volume+= vol\n",
    "    return volume\n",
    "        \n",
    "volume = compute_volume(vertex_list,face_list)\n",
    "print('volume = {:.3e} km^3'.format(volume) ) # in km^3 for Brozovic18 shape model\n"
   ]
  },
  {
   "cell_type": "code",
   "execution_count": 123,
   "id": "8dd0afce",
   "metadata": {},
   "outputs": [
    {
     "name": "stdout",
     "output_type": "stream",
     "text": [
      "volume of shape model Apophis B18 1.983e+07 m^3\n",
      "density 2017.6 kg/m3\n"
     ]
    }
   ],
   "source": [
    "volume_m = volume*1e9\n",
    "print('volume of shape model Apophis B18 {:.3e} m^3'.format(volume_m))\n",
    "mass_A = 4.0e10  # in kg\n",
    "density = mass_A/volume_m\n",
    "print('density {:.1f} kg/m3'.format(density)) # is consistent with values other people like"
   ]
  },
  {
   "cell_type": "markdown",
   "id": "80429b44",
   "metadata": {},
   "source": [
    "### compute spin vector in rad/s and I_D_ratio from Brozovic+18"
   ]
  },
  {
   "cell_type": "code",
   "execution_count": 117,
   "id": "d6d629cd",
   "metadata": {},
   "outputs": [
    {
     "name": "stdout",
     "output_type": "stream",
     "text": [
      "I_D_ratio=0.9752 T_ratio=1.0254\n",
      "Omega = (1.9495e-05,1.0262e-05,5.3522e-05) rad/s\n"
     ]
    }
   ],
   "source": [
    "\n",
    "omega_l = 96.506  # brozovic supplements table in degrees per day\n",
    "omega_i = 50.799\n",
    "omega_s = 264.953\n",
    "I_l_ratio = 0.729\n",
    "I_i_ratio = 0.947\n",
    "T = I_l_ratio* omega_l**2 + I_i_ratio*omega_i**2 + omega_s**2  # I_D omega_eff^2/I_s\n",
    "H2 = np.power(I_l_ratio*omega_l,2)+ np.power(I_i_ratio*omega_i,2) + omega_s**2   \n",
    "# |H| = I_D omega_eff/I_s\n",
    "I_D_ratio = H2/T\n",
    "print('I_D_ratio={:.4f} T_ratio={:.4f}'.format(I_D_ratio,1/I_D_ratio))\n",
    "# should not be greater than 1\n",
    "print('Omega = ({:.4e},{:.4e},{:.4e}) rad/s'.format(omega_l/degreeperday, \\\n",
    "                omega_i/degreeperday, omega_s/degreeperday))"
   ]
  },
  {
   "cell_type": "code",
   "execution_count": null,
   "id": "b783b7ae",
   "metadata": {},
   "outputs": [],
   "source": [
    "# dead below"
   ]
  },
  {
   "cell_type": "code",
   "execution_count": 56,
   "id": "9dd12409",
   "metadata": {},
   "outputs": [],
   "source": [
    "def makeC_T(psi,theta,phi):\n",
    "    CT = np.matrix([[np.cos(phi)*np.cos(psi)-np.sin(phi)*np.cos(theta)*np.sin(psi),\\\n",
    "           np.sin(phi)*np.cos(psi)+np.cos(phi)*np.cos(theta)*np.sin(psi),\\\n",
    "           np.sin(theta)*np.sin(psi) ],\\\n",
    "          [-np.cos(phi)*np.sin(psi)-np.sin(phi)*np.cos(theta)*np.cos(psi),\\\n",
    "           -np.sin(phi)*np.sin(psi)+np.cos(phi)*np.cos(theta)*np.cos(psi),\\\n",
    "            np.sin(theta)*np.cos(psi)],\\\n",
    "          [ np.sin(phi)*np.sin(theta),\\\n",
    "           -np.cos(phi)*np.sin(theta),\\\n",
    "            np.cos(theta)]])\n",
    "    return CT"
   ]
  }
 ],
 "metadata": {
  "kernelspec": {
   "display_name": "Python 3 (ipykernel)",
   "language": "python",
   "name": "python3"
  },
  "language_info": {
   "codemirror_mode": {
    "name": "ipython",
    "version": 3
   },
   "file_extension": ".py",
   "mimetype": "text/x-python",
   "name": "python",
   "nbconvert_exporter": "python",
   "pygments_lexer": "ipython3",
   "version": "3.11.9"
  }
 },
 "nbformat": 4,
 "nbformat_minor": 5
}
